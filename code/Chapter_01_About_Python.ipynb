{
 "cells": [
  {
   "cell_type": "markdown",
   "metadata": {},
   "source": [
    "# Chapter 1: About Python\n",
    "[Source Text Book: The Quick Python Book 3rd Edition by Naomi Ceder, Manning Publications, 2018.](https://www.amazon.com/gp/product/1617294039/ref=dbs_a_def_rwt_bibl_vppi_i0)\n",
    "\n",
    "This Jupyter Notebook contains only the quick notes and code excerpted from the above Naomi Ceder's book, __The Quick Python Book__, for the ease of presentation of teaching. Please follow the above link to purchase a copy of the book while taking this course.\n",
    "\n",
    "Chapter 1 discusses the strengths and weaknesses of Python and shows why Python 3 is a good choice of programming language for many situations."
   ]
  },
  {
   "cell_type": "markdown",
   "metadata": {},
   "source": [
    "## Why Should I use Python?"
   ]
  },
  {
   "cell_type": "markdown",
   "metadata": {},
   "source": [
    "## What Python does well?"
   ]
  },
  {
   "cell_type": "markdown",
   "metadata": {},
   "source": [
    "* Python is easy to use\n",
    "* Python is expressive\n",
    "* Python is readable\n",
    "* Python is complete--\"betteries included\"\n",
    "* Python is cross-platform\n",
    "* Python is free (open source software)"
   ]
  },
  {
   "cell_type": "markdown",
   "metadata": {},
   "source": [
    "## What Python doesn't do as well?"
   ]
  },
  {
   "cell_type": "markdown",
   "metadata": {},
   "source": [
    "* Python isn't the fastest language\n",
    "* Python doesn't have the most libraries\n",
    "* Python doesn't check variable types at compile time\n",
    "* Python doesn't have much mobile support\n",
    "* Python doesn't use mutiple processors well"
   ]
  },
  {
   "cell_type": "markdown",
   "metadata": {},
   "source": [
    "## Why learn Python 3?"
   ]
  },
  {
   "cell_type": "markdown",
   "metadata": {},
   "source": [
    "* Python 3 make the language more consistent, more readable, and less ambiguous.\n",
    "* Python 3 is the best Python so far."
   ]
  },
  {
   "cell_type": "markdown",
   "metadata": {},
   "source": [
    "## Summary"
   ]
  },
  {
   "cell_type": "markdown",
   "metadata": {},
   "source": [
    "* Python is a modern, high-level language with dynamic typing and simple, consistent syntax and semantics.\n",
    "* Python is multiplatform, highly modular, and suited for both rapid development and large-scale programming.\n",
    "* It’s reasonably fast and can be easily extended with C or C++ modules for higher speeds.\n",
    "* Python has built-in advanced features such as persistent object storage, advanced hash tables, expandable class syntax, and universal comparison functions. \n",
    "* Python includes a wide range of libraries such as numeric processing, image manipulation, user interfaces, and web scripting.\n",
    "* It’s supported by a dynamic Python community."
   ]
  },
  {
   "cell_type": "code",
   "execution_count": null,
   "metadata": {},
   "outputs": [],
   "source": []
  }
 ],
 "metadata": {
  "kernelspec": {
   "display_name": "Python 3",
   "language": "python",
   "name": "python3"
  },
  "language_info": {
   "codemirror_mode": {
    "name": "ipython",
    "version": 3
   },
   "file_extension": ".py",
   "mimetype": "text/x-python",
   "name": "python",
   "nbconvert_exporter": "python",
   "pygments_lexer": "ipython3",
   "version": "3.7.3"
  }
 },
 "nbformat": 4,
 "nbformat_minor": 2
}
